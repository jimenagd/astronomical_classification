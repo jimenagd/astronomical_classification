{
 "cells": [
  {
   "cell_type": "markdown",
   "metadata": {},
   "source": [
    "## Logistic Regression Model\n",
    "#### \"Logistic Regression is a Machine Learning algorithm which is used for the classification problems, it is a predictive analysis algorithm and based on the concept of probability.\" -Ayush Pant\n",
    "\n",
    "\n",
    "In a logistic regression model, we have our inputs (x1,x2,x3,etc) that are each multiplied by a weight value and then summed to a bias. looks something like this: y = wx + b\n",
    "\n",
    "Weights and biases are learnable parameters for the model. The model adjusts these parameters until it outputs a correct value.\n",
    "\n",
    "![alt text](https://naadispeaks.files.wordpress.com/2017/11/vqope.jpg?w=630 \"Log Mod\")\n",
    "\n",
    "After this, it goes through a transformation(or activation) function:$$\\sigma(z)=\\frac{1}{1 + e^{-z}}$$\n",
    "\n",
    "This function will output a value between 0 and 1 (0 being a negative classification and 1 being a positive classification). This gives us the predicted value! For example, if the model is making a prediction of the object being in class y and the predicted output is 0, then it is not in class y.\n",
    "\n",
    "\n",
    "Now that we know more about how logistic regression works, lets fit our model.\n"
   ]
  },
  {
   "cell_type": "code",
   "execution_count": null,
   "metadata": {},
   "outputs": [],
   "source": [
    "import pandas as pd \n",
    "import numpy as np"
   ]
  },
  {
   "cell_type": "code",
   "execution_count": 3,
   "metadata": {},
   "outputs": [],
   "source": [
    "#First we need to read in the training and test sets we made in the last notebook.\n",
    "import pandas as pd \n",
    "\n",
    "X_train = pd.read_csv('data/X_train.csv', index_col = 0)\n",
    "X_test = pd.read_csv('data/X_test.csv', index_col = 0)\n",
    "y_test = pd.read_csv('data/y_test.csv', index_col = 0)\n",
    "y_train = pd.read_csv('data/y_train.csv', index_col = 0)\n",
    "\n",
    "training = pd.read_csv('data/training_set.csv')\n",
    "meta = pd.read_csv('data/training_set_metadata.csv', delimiter=\",\")\n",
    "X = pd.read_csv('data/X.csv')"
   ]
  },
  {
   "cell_type": "code",
   "execution_count": 246,
   "metadata": {},
   "outputs": [
    {
     "name": "stderr",
     "output_type": "stream",
     "text": [
      "/anaconda3/lib/python3.7/site-packages/sklearn/linear_model/logistic.py:432: FutureWarning: Default solver will be changed to 'lbfgs' in 0.22. Specify a solver to silence this warning.\n",
      "  FutureWarning)\n",
      "/anaconda3/lib/python3.7/site-packages/sklearn/utils/validation.py:724: DataConversionWarning: A column-vector y was passed when a 1d array was expected. Please change the shape of y to (n_samples, ), for example using ravel().\n",
      "  y = column_or_1d(y, warn=True)\n"
     ]
    },
    {
     "data": {
      "text/plain": [
       "LogisticRegression(C=1.0, class_weight=None, dual=False, fit_intercept=True,\n",
       "                   intercept_scaling=1, l1_ratio=None, max_iter=100,\n",
       "                   multi_class='warn', n_jobs=None, penalty='l2',\n",
       "                   random_state=None, solver='warn', tol=0.0001, verbose=0,\n",
       "                   warm_start=False)"
      ]
     },
     "execution_count": 246,
     "metadata": {},
     "output_type": "execute_result"
    }
   ],
   "source": [
    "#Fit training set into the model\n",
    "\n",
    "from sklearn.datasets import load_iris\n",
    "from sklearn.linear_model import LogisticRegression\n",
    "\n",
    "logreg = LogisticRegression()\n",
    "logreg.fit(X_train, y_train)"
   ]
  },
  {
   "cell_type": "code",
   "execution_count": 247,
   "metadata": {},
   "outputs": [
    {
     "name": "stdout",
     "output_type": "stream",
     "text": [
      "Accuracy of logistic regression classifier on test set: 0.73\n"
     ]
    }
   ],
   "source": [
    "#Now run the model with the test set and obtain the prediction accuracy\n",
    "y_pred = logreg.predict(X_test) \n",
    "print('Accuracy of logistic regression classifier on test set: {:.2f}'.format(logreg.score(X_test, y_test)))"
   ]
  },
  {
   "cell_type": "markdown",
   "metadata": {},
   "source": [
    "### Confusion Matrix\n",
    "#### A confusion matrix gives us a table of the true positives, false positives, true negatives, and false negatives. It helps us see how our model is performing. \n",
    "    * True positive: Model predicted yes to class, and it actually was that class\n",
    "    * True negative: Model predicted no to class, and it actually wasn't that class\n",
    "    * False positive: Model predicted yes to class, and it actually wasn't that class\n",
    "    * False negative: Model predicted no to class, and it actually was that class"
   ]
  },
  {
   "cell_type": "code",
   "execution_count": 250,
   "metadata": {},
   "outputs": [
    {
     "data": {
      "text/plain": [
       "<matplotlib.axes._subplots.AxesSubplot at 0x1c1f8cd198>"
      ]
     },
     "execution_count": 250,
     "metadata": {},
     "output_type": "execute_result"
    },
    {
     "data": {
      "image/png": "[encoded data removed]",
      "text/plain": [
       "<Figure size 432x288 with 2 Axes>"
      ]
     },
     "metadata": {
      "needs_background": "light"
     },
     "output_type": "display_data"
    }
   ],
   "source": [
    "#Create the confusion matrix with the predicted values and the actual values\n",
    "from sklearn.metrics import confusion_matrix\n",
    "import scikitplot as skplt\n",
    "skplt.metrics.plot_confusion_matrix(y_test, y_pred)"
   ]
  },
  {
   "cell_type": "markdown",
   "metadata": {},
   "source": [
    "Note: we want largest numbers across the diagonal -- where 0 is aligned with 0 and 1 is aligned with 1"
   ]
  },
  {
   "cell_type": "code",
   "execution_count": 218,
   "metadata": {},
   "outputs": [
    {
     "data": {
      "text/html": [
       "<div>\n",
       "<style scoped>\n",
       "    .dataframe tbody tr th:only-of-type {\n",
       "        vertical-align: middle;\n",
       "    }\n",
       "\n",
       "    .dataframe tbody tr th {\n",
       "        vertical-align: top;\n",
       "    }\n",
       "\n",
       "    .dataframe thead th {\n",
       "        text-align: right;\n",
       "    }\n",
       "</style>\n",
       "<table border=\"1\" class=\"dataframe\">\n",
       "  <thead>\n",
       "    <tr style=\"text-align: right;\">\n",
       "      <th></th>\n",
       "      <th>obj_ind</th>\n",
       "      <th>object_id</th>\n",
       "      <th>pred</th>\n",
       "      <th>actual</th>\n",
       "    </tr>\n",
       "  </thead>\n",
       "  <tbody>\n",
       "    <tr>\n",
       "      <th>0</th>\n",
       "      <td>1710</td>\n",
       "      <td>276496.0</td>\n",
       "      <td>0</td>\n",
       "      <td>0</td>\n",
       "    </tr>\n",
       "    <tr>\n",
       "      <th>1</th>\n",
       "      <td>499</td>\n",
       "      <td>84306.0</td>\n",
       "      <td>0</td>\n",
       "      <td>0</td>\n",
       "    </tr>\n",
       "    <tr>\n",
       "      <th>2</th>\n",
       "      <td>834</td>\n",
       "      <td>139016.0</td>\n",
       "      <td>0</td>\n",
       "      <td>0</td>\n",
       "    </tr>\n",
       "    <tr>\n",
       "      <th>3</th>\n",
       "      <td>7340</td>\n",
       "      <td>119173316.0</td>\n",
       "      <td>0</td>\n",
       "      <td>1</td>\n",
       "    </tr>\n",
       "    <tr>\n",
       "      <th>4</th>\n",
       "      <td>4671</td>\n",
       "      <td>59025320.0</td>\n",
       "      <td>0</td>\n",
       "      <td>0</td>\n",
       "    </tr>\n",
       "    <tr>\n",
       "      <th>5</th>\n",
       "      <td>4549</td>\n",
       "      <td>56308175.0</td>\n",
       "      <td>0</td>\n",
       "      <td>1</td>\n",
       "    </tr>\n",
       "    <tr>\n",
       "      <th>6</th>\n",
       "      <td>3098</td>\n",
       "      <td>22178234.0</td>\n",
       "      <td>0</td>\n",
       "      <td>1</td>\n",
       "    </tr>\n",
       "    <tr>\n",
       "      <th>7</th>\n",
       "      <td>4288</td>\n",
       "      <td>49850869.0</td>\n",
       "      <td>0</td>\n",
       "      <td>0</td>\n",
       "    </tr>\n",
       "    <tr>\n",
       "      <th>8</th>\n",
       "      <td>7793</td>\n",
       "      <td>129554871.0</td>\n",
       "      <td>0</td>\n",
       "      <td>0</td>\n",
       "    </tr>\n",
       "    <tr>\n",
       "      <th>9</th>\n",
       "      <td>5809</td>\n",
       "      <td>84937194.0</td>\n",
       "      <td>0</td>\n",
       "      <td>1</td>\n",
       "    </tr>\n",
       "  </tbody>\n",
       "</table>\n",
       "</div>"
      ],
      "text/plain": [
       "   obj_ind    object_id pred  actual\n",
       "0     1710     276496.0    0       0\n",
       "1      499      84306.0    0       0\n",
       "2      834     139016.0    0       0\n",
       "3     7340  119173316.0    0       1\n",
       "4     4671   59025320.0    0       0\n",
       "5     4549   56308175.0    0       1\n",
       "6     3098   22178234.0    0       1\n",
       "7     4288   49850869.0    0       0\n",
       "8     7793  129554871.0    0       0\n",
       "9     5809   84937194.0    0       1"
      ]
     },
     "execution_count": 218,
     "metadata": {},
     "output_type": "execute_result"
    }
   ],
   "source": [
    "#Make a dataframe with each object's class prediction and actual class to see which objects \n",
    "\n",
    "#Find object IDs by pairing the indexes in Xtest to the objects\n",
    "X_test_ind = list(X_test.index)\n",
    "X_test_obj = []\n",
    "for i in X_test_ind:\n",
    "    X_test_obj.append(X.iloc[i]['object_id'])\n",
    "\n",
    "\n",
    "#Find class prediction for objects\n",
    "ypred_df = pd.DataFrame(columns=['obj_ind','object_id','pred','actual'])\n",
    "ypred_df['object_id'] = X_test_obj\n",
    "ypred_df['obj_ind'] = X_test_ind\n",
    "for n in range(len(X_test_obj)):\n",
    "    ypred_df.at[(n,'pred')] = y_pred[n]\n",
    "for i in X_test_ind:\n",
    "    ypred_df.loc[ypred_df['obj_ind'] == i, 'actual'] = y_test.loc[i]['class']\n",
    "    \n",
    "ypred_df.head(10)"
   ]
  }
 ],
 "metadata": {
  "kernelspec": {
   "display_name": "Python 3",
   "language": "python",
   "name": "python3"
  },
  "language_info": {
   "codemirror_mode": {
    "name": "ipython",
    "version": 3
   },
   "file_extension": ".py",
   "mimetype": "text/x-python",
   "name": "python",
   "nbconvert_exporter": "python",
   "pygments_lexer": "ipython3",
   "version": "3.7.1"
  }
 },
 "nbformat": 4,
 "nbformat_minor": 2
}
